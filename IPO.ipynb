{
 "cells": [
  {
   "cell_type": "code",
   "execution_count": 1,
   "metadata": {},
   "outputs": [],
   "source": [
    "from pathlib import Path\n",
    "import pandas as pd\n",
    "from datetime import timedelta\n",
    "import requests\n",
    "import yfinance as yf\n",
    "import numpy as np"
   ]
  },
  {
   "cell_type": "code",
   "execution_count": 3,
   "metadata": {},
   "outputs": [],
   "source": [
    "filepath=(\"..IpoScoop.csv\")\n",
    "ipo_csv = pd.read_csv(filepath)"
   ]
  },
  {
   "cell_type": "code",
   "execution_count": null,
   "metadata": {},
   "outputs": [],
   "source": [
    "filtered_ipo=ipo_csv.drop(columns=[\"1st Day Close\"])\n",
    "filtered_ipo.set_index(\"Symbol\")\n",
    "filtered_ipo =filtered_ipo.datetime(filtered_ipo[\"Offer Date\"])\n",
    "ten_days = pd.to_timedelta(10,'days')\n",
    "three_months = pd.to_timedelta(84,'days')\n",
    "hundred_days = pd.to_timedelta(100,'days')\n",
    "filtered_ipo['T-10Days'] = filtered_ipo['Offer Date']-ten_days\n",
    "filtered_ipo['T-90Days'] = filtered_ipo['Offer Date']-three_months\n",
    "filtered_ipo['T+100Days'] = filtered_ipo['Offer Date']+hundred_days"
   ]
  },
  {
   "cell_type": "code",
   "execution_count": null,
   "metadata": {},
   "outputs": [],
   "source": [
    "filtered_ipo['T-10Days'] = filtered_ipo['T-10Days'].astype(str)\n",
    "filtered_ipo['T-90Days'] = filtered_ipo['T-90Days'].astype(str)\n",
    "filtered_ipo['T+100Days'] = filtered_ipo['T+100Days'].astype(str)"
   ]
  },
  {
   "cell_type": "code",
   "execution_count": null,
   "metadata": {},
   "outputs": [],
   "source": [
    "for ticker in filtered_ipo.index:\n",
    "    "
   ]
  }
 ],
 "metadata": {
  "interpreter": {
   "hash": "a0e975fd60704730ff33d6349014d5e4597d901df87d012874851a95d782baf0"
  },
  "kernelspec": {
   "display_name": "Python 3.7.11 ('alpacaenv')",
   "language": "python",
   "name": "python3"
  },
  "language_info": {
   "codemirror_mode": {
    "name": "ipython",
    "version": 3
   },
   "file_extension": ".py",
   "mimetype": "text/x-python",
   "name": "python",
   "nbconvert_exporter": "python",
   "pygments_lexer": "ipython3",
   "version": "3.7.11"
  },
  "orig_nbformat": 4
 },
 "nbformat": 4,
 "nbformat_minor": 2
}
