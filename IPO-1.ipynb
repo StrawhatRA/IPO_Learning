{
 "cells": [
  {
   "cell_type": "code",
   "execution_count": 1,
   "metadata": {},
   "outputs": [],
   "source": [
    "from pathlib import Path\n",
    "import pandas as pd\n",
    "from datetime import timedelta\n",
    "import requests\n",
    "import yfinance as yf\n",
    "import numpy as np"
   ]
  },
  {
   "cell_type": "code",
   "execution_count": 4,
   "metadata": {},
   "outputs": [
    {
     "data": {
      "text/html": [
       "<div>\n",
       "<style scoped>\n",
       "    .dataframe tbody tr th:only-of-type {\n",
       "        vertical-align: middle;\n",
       "    }\n",
       "\n",
       "    .dataframe tbody tr th {\n",
       "        vertical-align: top;\n",
       "    }\n",
       "\n",
       "    .dataframe thead th {\n",
       "        text-align: right;\n",
       "    }\n",
       "</style>\n",
       "<table border=\"1\" class=\"dataframe\">\n",
       "  <thead>\n",
       "    <tr style=\"text-align: right;\">\n",
       "      <th></th>\n",
       "      <th>Company</th>\n",
       "      <th>Symbol</th>\n",
       "      <th>Industry</th>\n",
       "      <th>Offer Date</th>\n",
       "      <th>Shares (millions)</th>\n",
       "      <th>Offer Price</th>\n",
       "      <th>Current Price</th>\n",
       "      <th>Return</th>\n",
       "    </tr>\n",
       "  </thead>\n",
       "  <tbody>\n",
       "    <tr>\n",
       "      <th>0</th>\n",
       "      <td>JE Cleantech Holdings Limited</td>\n",
       "      <td>JCSE</td>\n",
       "      <td>Industrials</td>\n",
       "      <td>4/22/2022</td>\n",
       "      <td>3.8</td>\n",
       "      <td>$4.00</td>\n",
       "      <td>$19.00</td>\n",
       "      <td>375.00%</td>\n",
       "    </tr>\n",
       "    <tr>\n",
       "      <th>1</th>\n",
       "      <td>Applied Blockchain, Inc.</td>\n",
       "      <td>APLD</td>\n",
       "      <td>Technology</td>\n",
       "      <td>4/13/2022</td>\n",
       "      <td>8.0</td>\n",
       "      <td>$5.00</td>\n",
       "      <td>$4.02</td>\n",
       "      <td>-19.60%</td>\n",
       "    </tr>\n",
       "    <tr>\n",
       "      <th>2</th>\n",
       "      <td>Excelerate Energy, Inc.</td>\n",
       "      <td>EE</td>\n",
       "      <td>Oil &amp; Gas</td>\n",
       "      <td>4/13/2022</td>\n",
       "      <td>16.0</td>\n",
       "      <td>$24.00</td>\n",
       "      <td>$24.20</td>\n",
       "      <td>0.83%</td>\n",
       "    </tr>\n",
       "    <tr>\n",
       "      <th>3</th>\n",
       "      <td>Genius Group Limited</td>\n",
       "      <td>GNS</td>\n",
       "      <td>Consumer Services</td>\n",
       "      <td>4/12/2022</td>\n",
       "      <td>3.3</td>\n",
       "      <td>$6.00</td>\n",
       "      <td>$6.23</td>\n",
       "      <td>3.83%</td>\n",
       "    </tr>\n",
       "    <tr>\n",
       "      <th>4</th>\n",
       "      <td>Expion360 Inc.</td>\n",
       "      <td>XPON</td>\n",
       "      <td>Industrials</td>\n",
       "      <td>4/1/2022</td>\n",
       "      <td>2.2</td>\n",
       "      <td>$7.00</td>\n",
       "      <td>$4.15</td>\n",
       "      <td>-40.71%</td>\n",
       "    </tr>\n",
       "  </tbody>\n",
       "</table>\n",
       "</div>"
      ],
      "text/plain": [
       "                         Company Symbol           Industry Offer Date  \\\n",
       "0  JE Cleantech Holdings Limited   JCSE        Industrials  4/22/2022   \n",
       "1       Applied Blockchain, Inc.   APLD         Technology  4/13/2022   \n",
       "2        Excelerate Energy, Inc.     EE          Oil & Gas  4/13/2022   \n",
       "3           Genius Group Limited    GNS  Consumer Services  4/12/2022   \n",
       "4                 Expion360 Inc.   XPON        Industrials   4/1/2022   \n",
       "\n",
       "   Shares (millions) Offer Price Current Price   Return  \n",
       "0                3.8       $4.00        $19.00  375.00%  \n",
       "1                8.0       $5.00         $4.02  -19.60%  \n",
       "2               16.0      $24.00        $24.20    0.83%  \n",
       "3                3.3       $6.00         $6.23    3.83%  \n",
       "4                2.2       $7.00         $4.15  -40.71%  "
      ]
     },
     "execution_count": 4,
     "metadata": {},
     "output_type": "execute_result"
    }
   ],
   "source": [
    "ipo_csv = pd.read_csv('IpoScoop.csv')\n",
    "filtered_ipo=ipo_csv.drop(columns=[\"1st Day Close\"])\n",
    "filtered_ipo.head()"
   ]
  },
  {
   "cell_type": "code",
   "execution_count": 3,
   "metadata": {},
   "outputs": [
    {
     "ename": "AttributeError",
     "evalue": "'DataFrame' object has no attribute 'to_datetime'",
     "output_type": "error",
     "traceback": [
      "\u001b[1;31m---------------------------------------------------------------------------\u001b[0m",
      "\u001b[1;31mAttributeError\u001b[0m                            Traceback (most recent call last)",
      "\u001b[1;32m~\\AppData\\Local\\Temp/ipykernel_3732/2646888872.py\u001b[0m in \u001b[0;36m<module>\u001b[1;34m\u001b[0m\n\u001b[0;32m      1\u001b[0m \u001b[0mfiltered_ipo\u001b[0m\u001b[1;33m=\u001b[0m\u001b[0mipo_csv\u001b[0m\u001b[1;33m.\u001b[0m\u001b[0mdrop\u001b[0m\u001b[1;33m(\u001b[0m\u001b[0mcolumns\u001b[0m\u001b[1;33m=\u001b[0m\u001b[1;33m[\u001b[0m\u001b[1;34m\"1st Day Close\"\u001b[0m\u001b[1;33m]\u001b[0m\u001b[1;33m)\u001b[0m\u001b[1;33m\u001b[0m\u001b[1;33m\u001b[0m\u001b[0m\n\u001b[0;32m      2\u001b[0m \u001b[0mfiltered_ipo\u001b[0m\u001b[1;33m.\u001b[0m\u001b[0mset_index\u001b[0m\u001b[1;33m(\u001b[0m\u001b[1;34m\"Symbol\"\u001b[0m\u001b[1;33m)\u001b[0m\u001b[1;33m\u001b[0m\u001b[1;33m\u001b[0m\u001b[0m\n\u001b[1;32m----> 3\u001b[1;33m \u001b[0mfiltered_ipo\u001b[0m\u001b[1;33m[\u001b[0m\u001b[1;34m\"Offer Date\"\u001b[0m\u001b[1;33m]\u001b[0m \u001b[1;33m=\u001b[0m\u001b[0mfiltered_ipo\u001b[0m\u001b[1;33m.\u001b[0m\u001b[0mto_datetime\u001b[0m\u001b[1;33m(\u001b[0m\u001b[0mfiltered_ipo\u001b[0m\u001b[1;33m[\u001b[0m\u001b[1;34m\"Offer Date\"\u001b[0m\u001b[1;33m]\u001b[0m\u001b[1;33m)\u001b[0m\u001b[1;33m\u001b[0m\u001b[1;33m\u001b[0m\u001b[0m\n\u001b[0m\u001b[0;32m      4\u001b[0m \u001b[0mten_days\u001b[0m \u001b[1;33m=\u001b[0m \u001b[0mpd\u001b[0m\u001b[1;33m.\u001b[0m\u001b[0mto_timedelta\u001b[0m\u001b[1;33m(\u001b[0m\u001b[1;36m10\u001b[0m\u001b[1;33m,\u001b[0m\u001b[1;34m'days'\u001b[0m\u001b[1;33m)\u001b[0m\u001b[1;33m\u001b[0m\u001b[1;33m\u001b[0m\u001b[0m\n\u001b[0;32m      5\u001b[0m \u001b[0mthree_months\u001b[0m \u001b[1;33m=\u001b[0m \u001b[0mpd\u001b[0m\u001b[1;33m.\u001b[0m\u001b[0mto_timedelta\u001b[0m\u001b[1;33m(\u001b[0m\u001b[1;36m84\u001b[0m\u001b[1;33m,\u001b[0m\u001b[1;34m'days'\u001b[0m\u001b[1;33m)\u001b[0m\u001b[1;33m\u001b[0m\u001b[1;33m\u001b[0m\u001b[0m\n",
      "\u001b[1;32m~\\anaconda3\\envs\\alpacaenv\\lib\\site-packages\\pandas\\core\\generic.py\u001b[0m in \u001b[0;36m__getattr__\u001b[1;34m(self, name)\u001b[0m\n\u001b[0;32m   5485\u001b[0m         ):\n\u001b[0;32m   5486\u001b[0m             \u001b[1;32mreturn\u001b[0m \u001b[0mself\u001b[0m\u001b[1;33m[\u001b[0m\u001b[0mname\u001b[0m\u001b[1;33m]\u001b[0m\u001b[1;33m\u001b[0m\u001b[1;33m\u001b[0m\u001b[0m\n\u001b[1;32m-> 5487\u001b[1;33m         \u001b[1;32mreturn\u001b[0m \u001b[0mobject\u001b[0m\u001b[1;33m.\u001b[0m\u001b[0m__getattribute__\u001b[0m\u001b[1;33m(\u001b[0m\u001b[0mself\u001b[0m\u001b[1;33m,\u001b[0m \u001b[0mname\u001b[0m\u001b[1;33m)\u001b[0m\u001b[1;33m\u001b[0m\u001b[1;33m\u001b[0m\u001b[0m\n\u001b[0m\u001b[0;32m   5488\u001b[0m \u001b[1;33m\u001b[0m\u001b[0m\n\u001b[0;32m   5489\u001b[0m     \u001b[1;32mdef\u001b[0m \u001b[0m__setattr__\u001b[0m\u001b[1;33m(\u001b[0m\u001b[0mself\u001b[0m\u001b[1;33m,\u001b[0m \u001b[0mname\u001b[0m\u001b[1;33m:\u001b[0m \u001b[0mstr\u001b[0m\u001b[1;33m,\u001b[0m \u001b[0mvalue\u001b[0m\u001b[1;33m)\u001b[0m \u001b[1;33m->\u001b[0m \u001b[1;32mNone\u001b[0m\u001b[1;33m:\u001b[0m\u001b[1;33m\u001b[0m\u001b[1;33m\u001b[0m\u001b[0m\n",
      "\u001b[1;31mAttributeError\u001b[0m: 'DataFrame' object has no attribute 'to_datetime'"
     ]
    }
   ],
   "source": [
    "filtered_ipo=ipo_csv.drop(columns=[\"1st Day Close\"])\n",
    "filtered_ipo.set_index(\"Symbol\")\n",
    "filtered_ipo[\"Offer Date\"] =filtered_ipo.to_datetime(filtered_ipo[\"Offer Date\"])\n",
    "ten_days = pd.to_timedelta(10,'days')\n",
    "three_months = pd.to_timedelta(84,'days')\n",
    "hundred_days = pd.to_timedelta(100,'days')\n",
    "filtered_ipo['T-10Days'] = filtered_ipo['Offer Date']-ten_days\n",
    "filtered_ipo['T-90Days'] = filtered_ipo['Offer Date']-three_months\n",
    "filtered_ipo['T+100Days'] = filtered_ipo['Offer Date']+hundred_days"
   ]
  },
  {
   "cell_type": "code",
   "execution_count": null,
   "metadata": {},
   "outputs": [],
   "source": [
    "filtered_ipo['T-10Days'] = filtered_ipo['T-10Days'].astype(str)\n",
    "filtered_ipo['T-90Days'] = filtered_ipo['T-90Days'].astype(str)\n",
    "filtered_ipo['T+100Days'] = filtered_ipo['T+100Days'].astype(str)"
   ]
  }
 ],
 "metadata": {
  "interpreter": {
   "hash": "a0e975fd60704730ff33d6349014d5e4597d901df87d012874851a95d782baf0"
  },
  "kernelspec": {
   "display_name": "Python 3.7.11 ('alpacaenv')",
   "language": "python",
   "name": "python3"
  },
  "language_info": {
   "codemirror_mode": {
    "name": "ipython",
    "version": 3
   },
   "file_extension": ".py",
   "mimetype": "text/x-python",
   "name": "python",
   "nbconvert_exporter": "python",
   "pygments_lexer": "ipython3",
   "version": "3.7.11"
  },
  "orig_nbformat": 4
 },
 "nbformat": 4,
 "nbformat_minor": 2
}
